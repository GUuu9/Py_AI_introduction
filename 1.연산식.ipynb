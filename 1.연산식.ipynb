{
 "cells": [
  {
   "cell_type": "markdown",
   "metadata": {},
   "source": [
    "# 1. 산술연산식\n",
    "- 산술연산식은 수학의 수식에 해당하며, 산술연산식의 연산결과는 정수 또는 실수임\n",
    "- 산술연산자 : +, -, \\*(곱), /, //(몫), %(나머지), \\*\\*(제곱)"
   ]
  },
  {
   "cell_type": "markdown",
   "metadata": {},
   "source": [
    "## (1) 단순한 연산식"
   ]
  },
  {
   "cell_type": "code",
   "execution_count": 1,
   "metadata": {},
   "outputs": [
    {
     "name": "stdout",
     "output_type": "stream",
     "text": [
      "2\n",
      "18\n",
      "6.4\n",
      "8\n"
     ]
    }
   ],
   "source": [
    "print(1 + 1)\n",
    "print(2 * 9)\n",
    "print(32 / 5)\n",
    "print(2**3)"
   ]
  },
  {
   "cell_type": "markdown",
   "metadata": {},
   "source": [
    "## (2) 다수의 연산자 포함 연산식\n",
    "- 일반적인 산술 연산과 동일한 방식으로 연산이 수행된다.\n",
    "- 중첩 괄호로는 항상 소괄호 기호만 사용된다."
   ]
  },
  {
   "cell_type": "code",
   "execution_count": 4,
   "metadata": {},
   "outputs": [
    {
     "name": "stdout",
     "output_type": "stream",
     "text": [
      "22\n",
      "30\n",
      "3.1\n"
     ]
    }
   ],
   "source": [
    "print(4 + 6 * 3)\n",
    "print((4 + 6) * 3)\n",
    "print((6*(2+3)+1)/10)"
   ]
  },
  {
   "cell_type": "markdown",
   "metadata": {},
   "source": [
    "# 2.  비교 연산식 (부등식)"
   ]
  },
  {
   "cell_type": "markdown",
   "metadata": {},
   "source": [
    "- 비교연산자를 사용한 연산식(부등식)의 연산 결과는 항상 `참(True)` 또는 `거짓(False)`"
   ]
  },
  {
   "cell_type": "code",
   "execution_count": null,
   "metadata": {},
   "outputs": [],
   "source": []
  },
  {
   "cell_type": "code",
   "execution_count": null,
   "metadata": {},
   "outputs": [],
   "source": [
    "100 > 50     \n",
    "\n",
    "100 < 50   \n",
    "\n",
    "100 >= 100   \n",
    "\n",
    "100 <= 50 \n",
    "\n",
    "100 == 100   # 같은지 여부\n",
    "\n",
    "100 != 100   # 다른지 여부"
   ]
  },
  {
   "cell_type": "markdown",
   "metadata": {},
   "source": [
    "### 변수를 사용한 경우"
   ]
  },
  {
   "cell_type": "code",
   "execution_count": null,
   "metadata": {},
   "outputs": [],
   "source": [
    "a = 100\n",
    "b = 50    #위와 같이 선언하고 a가 b보다 작거나 같은지?(거짓이다)\n",
    "a <= b"
   ]
  },
  {
   "cell_type": "markdown",
   "metadata": {},
   "source": [
    "# 3. 논리 연산식\n",
    "- AND('and', '&'), OR('or', '|') 등의 논리연산자를 사용한 연산식\n",
    "\n",
    "### AND 연산자\n",
    "- 두 피연자의 값이 **모두** `참`일때만 `참`을 출력\n",
    "- 아래 사례에서 `True`와 `False`는 파이썬에서 정의한 상수임"
   ]
  },
  {
   "cell_type": "code",
   "execution_count": null,
   "metadata": {},
   "outputs": [],
   "source": [
    "True and True   # 둘의 값이 둘다 참이면 참\n",
    "\n",
    "True and False #둘의 값이 하나라도 거짓인 값이 있으면 거짓\n",
    "\n",
    "False and True #위와 동일\n",
    "\n",
    "False and False #둘다 거짓인 값을 가지고 있으면 거짓"
   ]
  },
  {
   "cell_type": "markdown",
   "metadata": {},
   "source": [
    "###  OR 연산자 \n",
    "- 두 피연자의 중에 최소 하나가 `참`이면 `참`을 출력"
   ]
  },
  {
   "cell_type": "code",
   "execution_count": null,
   "metadata": {},
   "outputs": [],
   "source": [
    "True or True   #둘다 참인 값을 가지고 있으면 참을 출력\n",
    "\n",
    "True or False  #한개가 참인 값이고 한개는 거짓인 값을 가지고 있어도 참으로 출력(or연산)\n",
    "\n",
    "False or True  #위와 동일\n",
    "\n",
    "False or False #둘다 거짓인 값은 거짓으로 출력"
   ]
  },
  {
   "cell_type": "markdown",
   "metadata": {},
   "source": [
    "### 비교연산식을 피연산자로 사용하는 논리연산식\n",
    "- 비교연사자가 논리연산자보다 우선순위가 높아 비교연신식에 괄호를 쒸울 필요는 없다."
   ]
  },
  {
   "cell_type": "code",
   "execution_count": null,
   "metadata": {},
   "outputs": [],
   "source": [
    "10 == 10 and 10 != 20  # 둘다 참이므로 참\n",
    "\n",
    "(10 == 10) and (10 >= 20)  # 우편의 연산식이 거짓, 가독성을 높이기 위해 괄호 사용\n",
    "\n",
    "10 > 5 or 10 <= 3  # 10이 3보다 작거나 같다(거짓)라는 거짓인 값을 가지고 있어도 참으로 출력(or연산)"
   ]
  },
  {
   "cell_type": "markdown",
   "metadata": {},
   "source": [
    "# 4. 변수가 포함된 표현식\n",
    "\n",
    "- 변수는 데이터를 저장할 수 있는 곳이며, 이름을 가짐\n",
    "- 변수마다 저장할 수 있는 데이터 유형과 용량은 다를 수 있으며, 그 자세한 내용운 추후 상세히 다룸\n",
    "- 변수는 표현식에 사용될 수 있으며, 연산에는 저장하고 있는 내용(숫자)가 사용됨\n"
   ]
  },
  {
   "cell_type": "code",
   "execution_count": null,
   "metadata": {},
   "outputs": [],
   "source": [
    "# 변수 a와 b를 생성하여 10,20 값을 대입하고 두 변수를 수식에 사용\n",
    "a = 10\n",
    "b = 20   \n",
    "\n",
    "a * b + 5"
   ]
  },
  {
   "cell_type": "code",
   "execution_count": null,
   "metadata": {},
   "outputs": [],
   "source": []
  }
 ],
 "metadata": {
  "accelerator": "GPU",
  "colab": {
   "collapsed_sections": [],
   "name": "PyTorch_chapter1.ipynb",
   "provenance": [
    {
     "file_id": "1uoOWiCZ8I3qClWEt4N0A0EO0OjOjWZwf",
     "timestamp": 1543828054136
    }
   ],
   "version": "0.3.2"
  },
  "kernelspec": {
   "display_name": "Python 3 (ipykernel)",
   "language": "python",
   "name": "python3"
  },
  "language_info": {
   "codemirror_mode": {
    "name": "ipython",
    "version": 3
   },
   "file_extension": ".py",
   "mimetype": "text/x-python",
   "name": "python",
   "nbconvert_exporter": "python",
   "pygments_lexer": "ipython3",
   "version": "3.9.10"
  }
 },
 "nbformat": 4,
 "nbformat_minor": 4
}
