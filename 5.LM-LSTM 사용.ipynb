{
 "cells": [
  {
   "cell_type": "markdown",
   "metadata": {},
   "source": [
    "> 이 문서의 폰트크기는 브라우저 인쇄시 인쇄 배율 80%로 최적화 되어 있음"
   ]
  },
  {
   "cell_type": "code",
   "execution_count": 58,
   "metadata": {},
   "outputs": [],
   "source": [
    "# multi line 출력을 위한 셀 -- 필요시 주석해제 후 이 셀을 실행시키기 바람\n",
    "#from IPython.core.interactiveshell import InteractiveShell\n",
    "#InteractiveShell.ast_node_interactivity = \"all\""
   ]
  },
  {
   "cell_type": "markdown",
   "metadata": {},
   "source": [
    "#  Language Model  : nn.LSTM 사용 버전\n",
    "\n",
    "> 1. 훈련데이터 전처리하기\n",
    "> 2. 모델 제작\n",
    "> 3. 모델 훈련\n",
    "     \n",
    "\n",
    "# 1. 학습데이터 제작"
   ]
  },
  {
   "cell_type": "code",
   "execution_count": 59,
   "metadata": {},
   "outputs": [],
   "source": [
    "import torch\n",
    "import torch.nn as nn\n",
    "import torch.optim as optim\n",
    "\n",
    "import numpy as np\n",
    "import matplotlib.pyplot as plt"
   ]
  },
  {
   "cell_type": "markdown",
   "metadata": {},
   "source": [
    "## (1) 원시 코퍼스\n",
    "- 여기서는 단순히 한개의 문장을 포함한 문자열을 원시 코퍼스로 활용"
   ]
  },
  {
   "cell_type": "code",
   "execution_count": 60,
   "metadata": {},
   "outputs": [],
   "source": [
    "corpus = \"Honest is the best policy for success\""
   ]
  },
  {
   "cell_type": "markdown",
   "metadata": {},
   "source": [
    "## (2) 토큰화 코퍼스 제작"
   ]
  },
  {
   "cell_type": "code",
   "execution_count": 61,
   "metadata": {},
   "outputs": [
    {
     "data": {
      "text/plain": [
       "['Honest', 'is', 'the', 'best', 'policy', 'for', 'success']"
      ]
     },
     "execution_count": 61,
     "metadata": {},
     "output_type": "execute_result"
    }
   ],
   "source": [
    "corpus_tokenized = corpus.split()\n",
    "corpus_tokenized"
   ]
  },
  {
   "cell_type": "markdown",
   "metadata": {},
   "source": [
    "## (2) 어휘집 제작"
   ]
  },
  {
   "cell_type": "markdown",
   "metadata": {},
   "source": [
    "### word2id 제작"
   ]
  },
  {
   "cell_type": "code",
   "execution_count": 62,
   "metadata": {},
   "outputs": [],
   "source": [
    "word2id = {tkn: i for i, tkn in enumerate(corpus_tokenized, 1)}  # 단어에 고유한 정수 부여\n",
    "word2id['<unk>'] = 0"
   ]
  },
  {
   "cell_type": "code",
   "execution_count": 63,
   "metadata": {},
   "outputs": [
    {
     "name": "stdout",
     "output_type": "stream",
     "text": [
      "8\n",
      "{'Honest': 1, 'is': 2, 'the': 3, 'best': 4, 'policy': 5, 'for': 6, 'success': 7, '<unk>': 0}\n",
      "5\n"
     ]
    }
   ],
   "source": [
    "print(len(word2id))\n",
    "print(word2id)\n",
    "print(word2id['policy'])"
   ]
  },
  {
   "cell_type": "markdown",
   "metadata": {},
   "source": [
    "### id2word 제작"
   ]
  },
  {
   "cell_type": "code",
   "execution_count": 64,
   "metadata": {},
   "outputs": [
    {
     "name": "stdout",
     "output_type": "stream",
     "text": [
      "{1: 'Honest', 2: 'is', 3: 'the', 4: 'best', 5: 'policy', 6: 'for', 7: 'success', 0: '<unk>'}\n"
     ]
    }
   ],
   "source": [
    "# ID를 단어로 바꾸기 위한 사전\n",
    "id2word = {v: k for k, v in word2id.items()}\n",
    "print(id2word)"
   ]
  },
  {
   "cell_type": "code",
   "execution_count": 65,
   "metadata": {},
   "outputs": [
    {
     "name": "stdout",
     "output_type": "stream",
     "text": [
      "8\n",
      "best\n"
     ]
    }
   ],
   "source": [
    "print(len(id2word))\n",
    "print(id2word[4])"
   ]
  },
  {
   "cell_type": "markdown",
   "metadata": {},
   "source": [
    "## (3)  코드화 코퍼스 제작"
   ]
  },
  {
   "cell_type": "code",
   "execution_count": 66,
   "metadata": {},
   "outputs": [],
   "source": [
    "corpus_encoded = [word2id[token] for token in corpus_tokenized] # 각 문자를 코드로 변환. "
   ]
  },
  {
   "cell_type": "code",
   "execution_count": 67,
   "metadata": {},
   "outputs": [
    {
     "name": "stdout",
     "output_type": "stream",
     "text": [
      "[1, 2, 3, 4, 5, 6, 7]\n"
     ]
    }
   ],
   "source": [
    "print(corpus_encoded)"
   ]
  },
  {
   "cell_type": "markdown",
   "metadata": {},
   "source": [
    "## (4) 학습데이터 제작"
   ]
  },
  {
   "cell_type": "code",
   "execution_count": 68,
   "metadata": {},
   "outputs": [],
   "source": [
    "input_seq, label_seq = corpus_encoded[:-1], corpus_encoded[1:] # 입력 시퀀스와 레이블 시퀀스를 분리\n",
    "\n",
    "X = torch.LongTensor(input_seq).unsqueeze(0) # 배치 차원 추가\n",
    "Y = torch.LongTensor(label_seq).unsqueeze(0) # 배치 차원 추가"
   ]
  },
  {
   "cell_type": "code",
   "execution_count": 69,
   "metadata": {},
   "outputs": [
    {
     "name": "stdout",
     "output_type": "stream",
     "text": [
      "tensor([[1, 2, 3, 4, 5, 6]])\n",
      "tensor([[2, 3, 4, 5, 6, 7]])\n"
     ]
    }
   ],
   "source": [
    "print(X)\n",
    "print(Y)"
   ]
  },
  {
   "cell_type": "markdown",
   "metadata": {},
   "source": [
    "# 2. 모델 제작"
   ]
  },
  {
   "cell_type": "code",
   "execution_count": 70,
   "metadata": {},
   "outputs": [],
   "source": [
    "class Net(nn.Module):\n",
    "    def __init__(self, vocab_size, input_size, hidden_size, batch_first=True):\n",
    "        super(Net, self).__init__()\n",
    "        self.embedding_layer = nn.Embedding(num_embeddings=vocab_size, #\n",
    "                                            embedding_dim=input_size)\n",
    "        self.rnn_layer = nn.LSTM(input_size, \n",
    "                                hidden_size, \n",
    "                                batch_first=batch_first)\n",
    "        self.linear = nn.Linear(hidden_size, vocab_size) \n",
    "        \n",
    "    def forward(self, x):\n",
    "        ## 1. 임베딩 층\n",
    "        # x : (배치 크기, 시퀀스 길이) => output : (배치 크기, 시퀀스 길이, 임베딩 차원)\n",
    "        x_emb = self.embedding_layer(x)\n",
    "        \n",
    "        ## 2. RNN 층\n",
    "        # output : (배치 크기, 시퀀스 길이, 은닉층 크기)\n",
    "        # hidden (1, 배치 크기, 은닉층 크기)\n",
    "        output, hidden = self.rnn_layer(x_emb)\n",
    "        \n",
    "        ## 3. 최종 출력층\n",
    "        # output : (배치 크기, 시퀀스 길이, 단어장 크기)\n",
    "        output = self.linear(output)\n",
    "        \n",
    "        # 4. 배치 차원 제거\n",
    "        # 반환값  : (배치 크기*시퀀스 길이, 단어장 크기)\n",
    "        return output.view(-1, output.size(2))"
   ]
  },
  {
   "cell_type": "code",
   "execution_count": 71,
   "metadata": {},
   "outputs": [],
   "source": [
    "# 하이퍼 파라미터\n",
    "VOCAB_SIZE = len(word2id)  # 단어장의 크기, 임베딩 층, 최종 출력층에 사용\n",
    "INPUT_SIZE = 5             # 임베딩 된 차원의 크기 및 RNN 층 입력 차원\n",
    "HIDDEN_SIZE= 20            # RNN의 은닉층 크기"
   ]
  },
  {
   "cell_type": "code",
   "execution_count": 72,
   "metadata": {},
   "outputs": [],
   "source": [
    "# 모델 생성\n",
    "model = Net(VOCAB_SIZE, INPUT_SIZE, HIDDEN_SIZE, batch_first=True)\n",
    "\n",
    "# 손실함수 정의\n",
    "loss_function = nn.CrossEntropyLoss() # 소프트맥스 함수 + CEE \n",
    "\n",
    "# 옵티마이저 정의\n",
    "optimizer = optim.Adam(params=model.parameters())"
   ]
  },
  {
   "cell_type": "markdown",
   "metadata": {},
   "source": [
    "### 점검하기"
   ]
  },
  {
   "cell_type": "code",
   "execution_count": 73,
   "metadata": {},
   "outputs": [
    {
     "name": "stdout",
     "output_type": "stream",
     "text": [
      "tensor([[-0.1328,  0.1676, -0.0845,  0.0981,  0.0509, -0.0092, -0.2469, -0.0780],\n",
      "        [-0.1433,  0.0748, -0.1121,  0.1631, -0.0131, -0.0321, -0.1777,  0.0658],\n",
      "        [-0.1353,  0.0615, -0.0813,  0.0957,  0.0379, -0.0393, -0.0411,  0.0819],\n",
      "        [-0.1097,  0.1038, -0.0929,  0.0622,  0.0047, -0.0129, -0.1964,  0.0219],\n",
      "        [-0.1193,  0.1220, -0.0976,  0.0707,  0.0161, -0.0184, -0.1905,  0.0055],\n",
      "        [-0.1509,  0.0473, -0.1151,  0.0876, -0.0210, -0.0356, -0.1708,  0.1121]],\n",
      "       grad_fn=<ViewBackward>)\n",
      "torch.Size([6, 8])\n"
     ]
    }
   ],
   "source": [
    "# 훈련 데이터로 로 예측해보기. 가중치는 전부 랜덤 초기화 된 상태\n",
    "output = model(X)\n",
    "\n",
    "print(output)\n",
    "print(output.shape)"
   ]
  },
  {
   "cell_type": "code",
   "execution_count": 74,
   "metadata": {},
   "outputs": [],
   "source": [
    "# 코드 시퀀스 y를 단어 시퀀스로 변경하는 함수\n",
    "decode = lambda y: [id2word.get(x) for x in y]"
   ]
  },
  {
   "cell_type": "markdown",
   "metadata": {},
   "source": [
    "# 3. 모델 훈련"
   ]
  },
  {
   "cell_type": "code",
   "execution_count": 75,
   "metadata": {},
   "outputs": [
    {
     "name": "stdout",
     "output_type": "stream",
     "text": [
      "  Epoch   Loss              출력\n",
      "[001/200] 2.05735   Honest Honest the the Honest Honest success\n",
      "[021/200] 1.97431   Honest Honest the the the the success\n",
      "[041/200] 1.86244   Honest the the best policy policy success\n",
      "[061/200] 1.68323   Honest is the best policy policy success\n",
      "[081/200] 1.41309   Honest is the best policy for success\n",
      "[101/200] 1.12279   Honest is the best policy for success\n",
      "[121/200] 0.88179   Honest is the best policy for success\n",
      "[141/200] 0.69297   Honest is the best policy for success\n",
      "[161/200] 0.54299   Honest is the best policy for success\n",
      "[181/200] 0.42376   Honest is the best policy for success\n"
     ]
    }
   ],
   "source": [
    "EPOCHS = 200\n",
    "_INTERVAL = EPOCHS/10\n",
    "\n",
    "log_train_loss = []\n",
    "\n",
    "print('  Epoch   Loss              출력')\n",
    "    \n",
    "# 훈련 시작\n",
    "for i in range(EPOCHS):\n",
    "    optimizer.zero_grad()   # 기울기 초기화\n",
    "    \n",
    "    # 순방향 전파 및 손실값 계산\n",
    "    output = model(X)\n",
    "    loss = loss_function(output, Y.view(-1))  \n",
    "    log_train_loss.append(loss.item()) # 로그 저장\n",
    "    \n",
    "    # 역방향 전파 및 가중치 갱신\n",
    "    loss.backward()\n",
    "    optimizer.step()\n",
    "        \n",
    "    if i % _INTERVAL  == 0:\n",
    "        print(\"[{:03d}/{:3d}] {:1.5f} \".format(i+1, EPOCHS, loss), end='')\n",
    "        pred = output.softmax(-1).argmax(-1).tolist()\n",
    "        print(\" \", \" \".join([id2word[X[0, 0].item()]] + decode(pred)))  #[\"Honest\"]\n"
   ]
  },
  {
   "cell_type": "markdown",
   "metadata": {},
   "source": [
    "### 훈련 과정의 에러(손실)을 그래프로 나타내기"
   ]
  },
  {
   "cell_type": "code",
   "execution_count": 76,
   "metadata": {},
   "outputs": [
    {
     "data": {
      "image/png": "[encoded data removed]",
      "text/plain": [
       "<Figure size 432x288 with 1 Axes>"
      ]
     },
     "metadata": {
      "needs_background": "light"
     },
     "output_type": "display_data"
    }
   ],
   "source": [
    "markers = {'train': 'o'}\n",
    "x = np.arange(len(log_train_loss))\n",
    "plt.plot(x, log_train_loss, label='train loss')\n",
    "plt.title(\"Train loss\")\n",
    "plt.xlabel(\"Epochs\")\n",
    "plt.ylabel(\"Loss\")\n",
    "#plt.ylim(0, 2.5)\n",
    "plt.grid(True, ls=\":\", lw=0.5)\n",
    "plt.legend(loc='upper right')\n",
    "\n",
    "plt.show()"
   ]
  }
 ],
 "metadata": {
  "accelerator": "GPU",
  "colab": {
   "collapsed_sections": [],
   "name": "PyTorch_chapter1.ipynb",
   "provenance": [
    {
     "file_id": "1uoOWiCZ8I3qClWEt4N0A0EO0OjOjWZwf",
     "timestamp": 1543828054136
    }
   ],
   "version": "0.3.2"
  },
  "kernelspec": {
   "display_name": "Python 3 (ipykernel)",
   "language": "python",
   "name": "python3"
  },
  "language_info": {
   "codemirror_mode": {
    "name": "ipython",
    "version": 3
   },
   "file_extension": ".py",
   "mimetype": "text/x-python",
   "name": "python",
   "nbconvert_exporter": "python",
   "pygments_lexer": "ipython3",
   "version": "3.9.10"
  }
 },
 "nbformat": 4,
 "nbformat_minor": 4
}
